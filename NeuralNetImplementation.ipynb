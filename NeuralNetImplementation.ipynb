{
  "nbformat": 4,
  "nbformat_minor": 0,
  "metadata": {
    "colab": {
      "name": "NeuralNetImplementation.ipynb",
      "version": "0.3.2",
      "provenance": [],
      "collapsed_sections": [],
      "include_colab_link": true
    },
    "kernelspec": {
      "name": "python3",
      "display_name": "Python 3"
    }
  },
  "cells": [
    {
      "cell_type": "markdown",
      "metadata": {
        "id": "view-in-github",
        "colab_type": "text"
      },
      "source": [
        "<a href=\"https://colab.research.google.com/github/MicroprocessorX069/Handwriting-comparison/blob/master/NeuralNetImplementation.ipynb\" target=\"_parent\"><img src=\"https://colab.research.google.com/assets/colab-badge.svg\" alt=\"Open In Colab\"/></a>"
      ]
    },
    {
      "metadata": {
        "id": "6IXM1J77IH3B",
        "colab_type": "code",
        "colab": {}
      },
      "cell_type": "code",
      "source": [
        "import tensorflow as tf\n",
        "import pandas as pd\n",
        "import numpy as np"
      ],
      "execution_count": 0,
      "outputs": []
    },
    {
      "metadata": {
        "id": "AM-zpCt7RuYW",
        "colab_type": "code",
        "colab": {}
      },
      "cell_type": "code",
      "source": [
        "Dataset=pd.read_csv('Data_equalSamples (1).csv')"
      ],
      "execution_count": 0,
      "outputs": []
    },
    {
      "metadata": {
        "id": "IRvwYxMpRTZF",
        "colab_type": "code",
        "colab": {}
      },
      "cell_type": "code",
      "source": [
        "def createDataset(df,train_percent, validation_percent):\n",
        "  df=df.loc[:,'Af1':'target']\n",
        "  length=df.shape[0]\n",
        "  \n",
        "  trainEnd=int(length*train_percent)\n",
        "  \n",
        "  validationEnd=trainEnd+int(length*validation_percent)\n",
        "  \n",
        "  trainData=df.iloc[0:trainEnd]\n",
        "  trainResult=trainData.loc[:,'target']\n",
        "  trainData=trainData.loc[:,'Af1':'Bf9']\n",
        "  trainResult=trainResult.reset_index(drop=True)\n",
        "  trainData=trainData.reset_index(drop=True)\n",
        "  \n",
        "  validationData=df.iloc[trainEnd:validationEnd]\n",
        "  validationResult=validationData.loc[:,'target']\n",
        "  validationData=validationData.loc[:,'Af1':'Bf9']\n",
        "  validationResult=validationResult.reset_index(drop=True)\n",
        "  validationData=validationData.reset_index(drop=True)\n",
        "  \n",
        "  testData=df.iloc[validationEnd:length]\n",
        "  testResult=testData.loc[:,'target']\n",
        "  testData=testData.loc[:,'Af1':'Bf9']\n",
        "  testResult=testResult.reset_index(drop=True)\n",
        "  testData=testData.reset_index(drop=True)\n",
        "  \n",
        "  return trainData, trainResult, validationData, validationResult, testData, testResult\n",
        "  \n",
        "  "
      ],
      "execution_count": 0,
      "outputs": []
    },
    {
      "metadata": {
        "id": "ZSAPnvmuV3Ns",
        "colab_type": "code",
        "colab": {}
      },
      "cell_type": "code",
      "source": [
        "validation_percent=0\n",
        "train_percent=0.9\n",
        "\n",
        "trainData, trainResult, validationData, validationResult, testData, testResult = createDataset(Dataset,train_percent, validation_percent)\n",
        "\n"
      ],
      "execution_count": 0,
      "outputs": []
    },
    {
      "metadata": {
        "id": "NcsnH_Zt5KLs",
        "colab_type": "code",
        "colab": {
          "base_uri": "https://localhost:8080/",
          "height": 34
        },
        "outputId": "6d514998-cea8-4849-bd52-e4ead4b7f934"
      },
      "cell_type": "code",
      "source": [
        "trainData.shape"
      ],
      "execution_count": 23,
      "outputs": [
        {
          "output_type": "execute_result",
          "data": {
            "text/plain": [
              "(1423, 18)"
            ]
          },
          "metadata": {
            "tags": []
          },
          "execution_count": 23
        }
      ]
    },
    {
      "metadata": {
        "id": "pY22WblVzi3Z",
        "colab_type": "code",
        "colab": {
          "base_uri": "https://localhost:8080/",
          "height": 2040
        },
        "outputId": "d22215e2-5187-4b58-8d73-6d6cc8077823"
      },
      "cell_type": "code",
      "source": [
        "def NeuralNet(Dataset,train_percent=0.8, validation_percent=0):\n",
        "  trainData, trainResult, validationData, validationResult, testData, testResult = create_dataset(Dataset,train_percent, validation_percent)\n",
        "  #Model Parametres\n",
        "  import tensorflow as tf\n",
        "  import time\n",
        "  input_size = trainData.shape[1]\n",
        "  activation_function= tf.nn.crelu\n",
        "  seq_layers=[64,64,64,64]\n",
        "  loss_function = 'kullback_leibler_divergence'\n",
        "  validationSplit = 0.2\n",
        "  optimizer_used = 'SGD'\n",
        "  epoch_no=50\n",
        "  output_size=1\n",
        "  start=time.time()\n",
        "  model=tf.keras.models.Sequential()\n",
        "  model.add(tf.keras.layers.Dense(seq_layers[0],activation=activation_function,input_dim=input_size))\n",
        "  for layer_iterator in range(1,len(seq_layers)-1):\n",
        "    #print(seq_layers[layer_iterator])\n",
        "    model.add(tf.keras.layers.Dense(seq_layers[layer_iterator+1], activation = activation_function))\n",
        "\n",
        "  model.add(tf.keras.layers.Dense(output_size,activation=tf.nn.softmax))\n",
        "  model.compile(optimizer=optimizer_used, loss=loss_function, metrics=['accuracy'])\n",
        "  model.summary()\n",
        "\n",
        "  history=model.fit(trainData,trainResult,epochs=epoch_no, validation_split=validationSplit)\n",
        "  end=time.time()\n",
        "  #print(end-start)\n",
        "  loss,acc=model.evaluate(testData,testResult)\n",
        "  print(loss,acc)\n",
        "\n",
        "\n"
      ],
      "execution_count": 5,
      "outputs": [
        {
          "output_type": "stream",
          "text": [
            "64\n",
            "64\n",
            "_________________________________________________________________\n",
            "Layer (type)                 Output Shape              Param #   \n",
            "=================================================================\n",
            "dense (Dense)                (None, 128)               1216      \n",
            "_________________________________________________________________\n",
            "dense_1 (Dense)              (None, 128)               8256      \n",
            "_________________________________________________________________\n",
            "dense_2 (Dense)              (None, 128)               8256      \n",
            "_________________________________________________________________\n",
            "dense_3 (Dense)              (None, 1)                 129       \n",
            "=================================================================\n",
            "Total params: 17,857\n",
            "Trainable params: 17,857\n",
            "Non-trainable params: 0\n",
            "_________________________________________________________________\n",
            "Train on 1138 samples, validate on 285 samples\n",
            "Epoch 1/50\n",
            "1138/1138 [==============================] - 1s 631us/step - loss: -7.8891e-07 - acc: 0.5105 - val_loss: -8.4267e-07 - val_acc: 0.4772\n",
            "Epoch 2/50\n",
            "1138/1138 [==============================] - 0s 48us/step - loss: -7.8891e-07 - acc: 0.5105 - val_loss: -8.4267e-07 - val_acc: 0.4772\n",
            "Epoch 3/50\n",
            "1138/1138 [==============================] - 0s 47us/step - loss: -7.8891e-07 - acc: 0.5105 - val_loss: -8.4267e-07 - val_acc: 0.4772\n",
            "Epoch 4/50\n",
            "1138/1138 [==============================] - 0s 50us/step - loss: -7.8891e-07 - acc: 0.5105 - val_loss: -8.4267e-07 - val_acc: 0.4772\n",
            "Epoch 5/50\n",
            "1138/1138 [==============================] - 0s 47us/step - loss: -7.8891e-07 - acc: 0.5105 - val_loss: -8.4267e-07 - val_acc: 0.4772\n",
            "Epoch 6/50\n",
            "1138/1138 [==============================] - 0s 49us/step - loss: -7.8891e-07 - acc: 0.5105 - val_loss: -8.4267e-07 - val_acc: 0.4772\n",
            "Epoch 7/50\n",
            "1138/1138 [==============================] - 0s 47us/step - loss: -7.8891e-07 - acc: 0.5105 - val_loss: -8.4267e-07 - val_acc: 0.4772\n",
            "Epoch 8/50\n",
            "1138/1138 [==============================] - 0s 50us/step - loss: -7.8891e-07 - acc: 0.5105 - val_loss: -8.4267e-07 - val_acc: 0.4772\n",
            "Epoch 9/50\n",
            "1138/1138 [==============================] - 0s 47us/step - loss: -7.8891e-07 - acc: 0.5105 - val_loss: -8.4267e-07 - val_acc: 0.4772\n",
            "Epoch 10/50\n",
            "1138/1138 [==============================] - 0s 46us/step - loss: -7.8891e-07 - acc: 0.5105 - val_loss: -8.4267e-07 - val_acc: 0.4772\n",
            "Epoch 11/50\n",
            "1138/1138 [==============================] - 0s 50us/step - loss: -7.8891e-07 - acc: 0.5105 - val_loss: -8.4267e-07 - val_acc: 0.4772\n",
            "Epoch 12/50\n",
            "1138/1138 [==============================] - 0s 46us/step - loss: -7.8891e-07 - acc: 0.5105 - val_loss: -8.4267e-07 - val_acc: 0.4772\n",
            "Epoch 13/50\n",
            "1138/1138 [==============================] - 0s 48us/step - loss: -7.8891e-07 - acc: 0.5105 - val_loss: -8.4267e-07 - val_acc: 0.4772\n",
            "Epoch 14/50\n",
            "1138/1138 [==============================] - 0s 48us/step - loss: -7.8891e-07 - acc: 0.5105 - val_loss: -8.4267e-07 - val_acc: 0.4772\n",
            "Epoch 15/50\n",
            "1138/1138 [==============================] - 0s 48us/step - loss: -7.8891e-07 - acc: 0.5105 - val_loss: -8.4267e-07 - val_acc: 0.4772\n",
            "Epoch 16/50\n",
            "1138/1138 [==============================] - 0s 46us/step - loss: -7.8891e-07 - acc: 0.5105 - val_loss: -8.4267e-07 - val_acc: 0.4772\n",
            "Epoch 17/50\n",
            "1138/1138 [==============================] - 0s 48us/step - loss: -7.8891e-07 - acc: 0.5105 - val_loss: -8.4267e-07 - val_acc: 0.4772\n",
            "Epoch 18/50\n",
            "1138/1138 [==============================] - 0s 48us/step - loss: -7.8891e-07 - acc: 0.5105 - val_loss: -8.4267e-07 - val_acc: 0.4772\n",
            "Epoch 19/50\n",
            "1138/1138 [==============================] - 0s 48us/step - loss: -7.8891e-07 - acc: 0.5105 - val_loss: -8.4267e-07 - val_acc: 0.4772\n",
            "Epoch 20/50\n",
            "1138/1138 [==============================] - 0s 47us/step - loss: -7.8891e-07 - acc: 0.5105 - val_loss: -8.4267e-07 - val_acc: 0.4772\n",
            "Epoch 21/50\n",
            "1138/1138 [==============================] - 0s 46us/step - loss: -7.8891e-07 - acc: 0.5105 - val_loss: -8.4267e-07 - val_acc: 0.4772\n",
            "Epoch 22/50\n",
            "1138/1138 [==============================] - 0s 47us/step - loss: -7.8891e-07 - acc: 0.5105 - val_loss: -8.4267e-07 - val_acc: 0.4772\n",
            "Epoch 23/50\n",
            "1138/1138 [==============================] - 0s 47us/step - loss: -7.8891e-07 - acc: 0.5105 - val_loss: -8.4267e-07 - val_acc: 0.4772\n",
            "Epoch 24/50\n",
            "1138/1138 [==============================] - 0s 47us/step - loss: -7.8891e-07 - acc: 0.5105 - val_loss: -8.4267e-07 - val_acc: 0.4772\n",
            "Epoch 25/50\n",
            "1138/1138 [==============================] - 0s 46us/step - loss: -7.8891e-07 - acc: 0.5105 - val_loss: -8.4267e-07 - val_acc: 0.4772\n",
            "Epoch 26/50\n",
            "1138/1138 [==============================] - 0s 47us/step - loss: -7.8891e-07 - acc: 0.5105 - val_loss: -8.4267e-07 - val_acc: 0.4772\n",
            "Epoch 27/50\n",
            "1138/1138 [==============================] - 0s 45us/step - loss: -7.8891e-07 - acc: 0.5105 - val_loss: -8.4267e-07 - val_acc: 0.4772\n",
            "Epoch 28/50\n",
            "1138/1138 [==============================] - 0s 47us/step - loss: -7.8891e-07 - acc: 0.5105 - val_loss: -8.4267e-07 - val_acc: 0.4772\n",
            "Epoch 29/50\n",
            "1138/1138 [==============================] - 0s 47us/step - loss: -7.8891e-07 - acc: 0.5105 - val_loss: -8.4267e-07 - val_acc: 0.4772\n",
            "Epoch 30/50\n",
            "1138/1138 [==============================] - 0s 45us/step - loss: -7.8891e-07 - acc: 0.5105 - val_loss: -8.4267e-07 - val_acc: 0.4772\n",
            "Epoch 31/50\n",
            "1138/1138 [==============================] - 0s 43us/step - loss: -7.8891e-07 - acc: 0.5105 - val_loss: -8.4267e-07 - val_acc: 0.4772\n",
            "Epoch 32/50\n",
            "1138/1138 [==============================] - 0s 45us/step - loss: -7.8891e-07 - acc: 0.5105 - val_loss: -8.4267e-07 - val_acc: 0.4772\n",
            "Epoch 33/50\n",
            "1138/1138 [==============================] - 0s 48us/step - loss: -7.8891e-07 - acc: 0.5105 - val_loss: -8.4267e-07 - val_acc: 0.4772\n",
            "Epoch 34/50\n",
            "1138/1138 [==============================] - 0s 45us/step - loss: -7.8891e-07 - acc: 0.5105 - val_loss: -8.4267e-07 - val_acc: 0.4772\n",
            "Epoch 35/50\n",
            "1138/1138 [==============================] - 0s 46us/step - loss: -7.8891e-07 - acc: 0.5105 - val_loss: -8.4267e-07 - val_acc: 0.4772\n",
            "Epoch 36/50\n",
            "1138/1138 [==============================] - 0s 45us/step - loss: -7.8891e-07 - acc: 0.5105 - val_loss: -8.4267e-07 - val_acc: 0.4772\n",
            "Epoch 37/50\n",
            "1138/1138 [==============================] - 0s 45us/step - loss: -7.8891e-07 - acc: 0.5105 - val_loss: -8.4267e-07 - val_acc: 0.4772\n",
            "Epoch 38/50\n",
            "1138/1138 [==============================] - 0s 47us/step - loss: -7.8891e-07 - acc: 0.5105 - val_loss: -8.4267e-07 - val_acc: 0.4772\n",
            "Epoch 39/50\n",
            "1138/1138 [==============================] - 0s 46us/step - loss: -7.8891e-07 - acc: 0.5105 - val_loss: -8.4267e-07 - val_acc: 0.4772\n",
            "Epoch 40/50\n",
            "1138/1138 [==============================] - 0s 47us/step - loss: -7.8891e-07 - acc: 0.5105 - val_loss: -8.4267e-07 - val_acc: 0.4772\n",
            "Epoch 41/50\n",
            "1138/1138 [==============================] - 0s 44us/step - loss: -7.8891e-07 - acc: 0.5105 - val_loss: -8.4267e-07 - val_acc: 0.4772\n",
            "Epoch 42/50\n",
            "1138/1138 [==============================] - 0s 47us/step - loss: -7.8891e-07 - acc: 0.5105 - val_loss: -8.4267e-07 - val_acc: 0.4772\n",
            "Epoch 43/50\n",
            "1138/1138 [==============================] - 0s 48us/step - loss: -7.8891e-07 - acc: 0.5105 - val_loss: -8.4267e-07 - val_acc: 0.4772\n",
            "Epoch 44/50\n",
            "1138/1138 [==============================] - 0s 44us/step - loss: -7.8891e-07 - acc: 0.5105 - val_loss: -8.4267e-07 - val_acc: 0.4772\n",
            "Epoch 45/50\n",
            "1138/1138 [==============================] - 0s 46us/step - loss: -7.8891e-07 - acc: 0.5105 - val_loss: -8.4267e-07 - val_acc: 0.4772\n",
            "Epoch 46/50\n",
            "1138/1138 [==============================] - 0s 49us/step - loss: -7.8891e-07 - acc: 0.5105 - val_loss: -8.4267e-07 - val_acc: 0.4772\n",
            "Epoch 47/50\n",
            "1138/1138 [==============================] - 0s 57us/step - loss: -7.8891e-07 - acc: 0.5105 - val_loss: -8.4267e-07 - val_acc: 0.4772\n",
            "Epoch 48/50\n",
            "1138/1138 [==============================] - 0s 44us/step - loss: -7.8891e-07 - acc: 0.5105 - val_loss: -8.4267e-07 - val_acc: 0.4772\n",
            "Epoch 49/50\n",
            "1138/1138 [==============================] - 0s 45us/step - loss: -7.8891e-07 - acc: 0.5105 - val_loss: -8.4267e-07 - val_acc: 0.4772\n",
            "Epoch 50/50\n",
            "1138/1138 [==============================] - 0s 44us/step - loss: -7.8891e-07 - acc: 0.5105 - val_loss: -8.4267e-07 - val_acc: 0.4772\n",
            "3.9376866817474365\n"
          ],
          "name": "stdout"
        }
      ]
    },
    {
      "metadata": {
        "id": "cwPuH7iCApN9",
        "colab_type": "code",
        "colab": {
          "base_uri": "https://localhost:8080/",
          "height": 51
        },
        "outputId": "1a9810f7-8da8-4c7b-c1ad-bb81b77204b0"
      },
      "cell_type": "code",
      "source": [
        ""
      ],
      "execution_count": 37,
      "outputs": [
        {
          "output_type": "stream",
          "text": [
            "159/159 [==============================] - 0s 76us/step\n",
            "-8.616592073031487e-07 0.46540880240734267\n"
          ],
          "name": "stdout"
        }
      ]
    }
  ]
}