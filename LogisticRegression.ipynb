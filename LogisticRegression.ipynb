{
  "nbformat": 4,
  "nbformat_minor": 0,
  "metadata": {
    "colab": {
      "name": "LogisticRegression.ipynb",
      "version": "0.3.2",
      "provenance": [],
      "include_colab_link": true
    },
    "kernelspec": {
      "name": "python3",
      "display_name": "Python 3"
    }
  },
  "cells": [
    {
      "cell_type": "markdown",
      "metadata": {
        "id": "view-in-github",
        "colab_type": "text"
      },
      "source": [
        "<a href=\"https://colab.research.google.com/github/MicroprocessorX069/Handwriting-comparison/blob/master/LogisticRegression.ipynb\" target=\"_parent\"><img src=\"https://colab.research.google.com/assets/colab-badge.svg\" alt=\"Open In Colab\"/></a>"
      ]
    },
    {
      "metadata": {
        "id": "4cCE3IdWNU9G",
        "colab_type": "code",
        "colab": {}
      },
      "cell_type": "code",
      "source": [
        "import numpy as np\n",
        "import pandas as pd\n",
        "import math"
      ],
      "execution_count": 0,
      "outputs": []
    },
    {
      "metadata": {
        "id": "lKkUpiHRUfPU",
        "colab_type": "code",
        "colab": {}
      },
      "cell_type": "code",
      "source": [
        "#Dataset=pd.read_csv('Data_equalSamples (1).csv')\n",
        "Dataset=pd.read_csv('Data.csv')"
      ],
      "execution_count": 0,
      "outputs": []
    },
    {
      "metadata": {
        "id": "mXTk7GTrUiJL",
        "colab_type": "code",
        "colab": {}
      },
      "cell_type": "code",
      "source": [
        "def createDataset(df,train_percent, validation_percent):\n",
        "  df=df.loc[:,'Af1':'target']\n",
        "  length=df.shape[0]\n",
        "  \n",
        "  trainEnd=int(length*train_percent)\n",
        "  \n",
        "  validationEnd=trainEnd+int(length*validation_percent)\n",
        "  \n",
        "  trainData=df.iloc[0:trainEnd]\n",
        "  trainResult=trainData.loc[:,'target']\n",
        "  trainData=trainData.loc[:,'Af1':'Bf9']\n",
        "  trainResult=trainResult.reset_index(drop=True)\n",
        "  trainData=trainData.reset_index(drop=True)\n",
        "  \n",
        "  validationData=df.iloc[trainEnd:validationEnd]\n",
        "  validationResult=validationData.loc[:,'target']\n",
        "  validationData=validationData.loc[:,'Af1':'Bf9']\n",
        "  validationResult=validationResult.reset_index(drop=True)\n",
        "  validationData=validationData.reset_index(drop=True)\n",
        "  \n",
        "  testData=df.iloc[validationEnd:length]\n",
        "  testResult=testData.loc[:,'target']\n",
        "  testData=testData.loc[:,'Af1':'Bf9']\n",
        "  testResult=testResult.reset_index(drop=True)\n",
        "  testData=testData.reset_index(drop=True)\n",
        "  \n",
        "  return trainData, trainResult, validationData, validationResult, testData, testResult\n",
        "  \n",
        " "
      ],
      "execution_count": 0,
      "outputs": []
    },
    {
      "metadata": {
        "id": "uvlL67mVbVPo",
        "colab_type": "code",
        "colab": {}
      },
      "cell_type": "code",
      "source": [
        "validation_percent=0\n",
        "train_percent=0.7\n",
        "\n",
        "trainData, trainResult, validationData, validationResult, testData, testResult = createDataset(Dataset,train_percent, validation_percent)\n",
        "\n",
        "trainData=np.array(trainData)\n",
        "trainResult=np.array(trainResult)\n",
        "testData=np.array(testData)\n",
        "testResult=np.array(testResult)\n"
      ],
      "execution_count": 0,
      "outputs": []
    },
    {
      "metadata": {
        "id": "NJmqIaKycnpM",
        "colab_type": "code",
        "colab": {
          "base_uri": "https://localhost:8080/",
          "height": 34
        },
        "outputId": "e91796e2-96f6-45cd-9c27-5a07b2ef0da3"
      },
      "cell_type": "code",
      "source": [
        "trainData[7]"
      ],
      "execution_count": 29,
      "outputs": [
        {
          "output_type": "execute_result",
          "data": {
            "text/plain": [
              "array([2, 1, 1, 0, 2, 2, 0, 2, 2, 2, 1, 1, 3, 2, 2, 1, 0, 2])"
            ]
          },
          "metadata": {
            "tags": []
          },
          "execution_count": 29
        }
      ]
    },
    {
      "metadata": {
        "id": "7mlbonkRZZE1",
        "colab_type": "code",
        "colab": {
          "base_uri": "https://localhost:8080/",
          "height": 34
        },
        "outputId": "b2e0ac12-1474-42ff-bf69-172a560112ad"
      },
      "cell_type": "code",
      "source": [
        "import math\n",
        "\n",
        "def sigmoid(x):\n",
        "  return 1 / (1 + math.exp(-x))\n",
        "W=np.zeros(19)\n",
        "j=-1\n",
        "learning_rate=0.2\n",
        "for epoch in range(0,10):\n",
        "  j=-1\n",
        "  for input in trainData:\n",
        "    output=W[0]\n",
        "    j=j+1\n",
        "\n",
        "    for i in range(1,len(W)):\n",
        "      output=output+W[i]*input[i-1]\n",
        "    target=trainResult[j]\n",
        "    output=sigmoid(output)\n",
        "    for i in range(0,len(W)):  \n",
        "      if(i==0):\n",
        "        weight_change=learning_rate*(target-output)*output*(1-output)\n",
        "        W[i]=W[i]+weight_change\n",
        "      else:\n",
        "        weight_change=learning_rate*(target-output)*output*(1-output)*input[i-1]\n",
        "        W[i]=W[i]+weight_change\n",
        "\n",
        "print(j)"
      ],
      "execution_count": 58,
      "outputs": [
        {
          "output_type": "stream",
          "text": [
            "205675\n"
          ],
          "name": "stdout"
        }
      ]
    },
    {
      "metadata": {
        "id": "JL_Nr-v5pjYj",
        "colab_type": "code",
        "colab": {
          "base_uri": "https://localhost:8080/",
          "height": 85
        },
        "outputId": "6a03aa0e-e207-4223-924d-4e7d136d0f0c"
      },
      "cell_type": "code",
      "source": [
        "W"
      ],
      "execution_count": 59,
      "outputs": [
        {
          "output_type": "execute_result",
          "data": {
            "text/plain": [
              "array([-0.44371703, -0.19046304, -0.13523363, -0.37375809, -0.18336227,\n",
              "       -0.28781533, -0.57090302, -0.33069431, -0.21364701, -0.44928934,\n",
              "       -0.0586004 , -0.1682542 , -0.22918535, -0.16387121,  0.03391098,\n",
              "       -0.37033542, -0.29752859, -0.06429286, -0.35325656])"
            ]
          },
          "metadata": {
            "tags": []
          },
          "execution_count": 59
        }
      ]
    },
    {
      "metadata": {
        "id": "bS59f2skpojU",
        "colab_type": "code",
        "colab": {
          "base_uri": "https://localhost:8080/",
          "height": 34
        },
        "outputId": "173a699e-8b51-4d00-93df-0728101cb824"
      },
      "cell_type": "code",
      "source": [
        "correct=0\n",
        "j=-1\n",
        "for input in testData:\n",
        "  output=W[0]\n",
        "  j=j+1\n",
        "  for i in range(1,len(W)):\n",
        "    output=output+W[i]*input[i-1]\n",
        "  target=testResult[j]\n",
        "  output=round(sigmoid(output),0)\n",
        "  if(target==output):\n",
        "    correct=correct+1\n",
        "print((correct*100)/j)"
      ],
      "execution_count": 61,
      "outputs": [
        {
          "output_type": "stream",
          "text": [
            "99.72885893857918\n"
          ],
          "name": "stdout"
        }
      ]
    },
    {
      "metadata": {
        "id": "lxpodCR9ng8u",
        "colab_type": "code",
        "colab": {
          "base_uri": "https://localhost:8080/",
          "height": 34
        },
        "outputId": "6becff22-8173-40b0-b825-296621a11876"
      },
      "cell_type": "code",
      "source": [
        "testResult.shape"
      ],
      "execution_count": 48,
      "outputs": [
        {
          "output_type": "execute_result",
          "data": {
            "text/plain": [
              "(475,)"
            ]
          },
          "metadata": {
            "tags": []
          },
          "execution_count": 48
        }
      ]
    }
  ]
}