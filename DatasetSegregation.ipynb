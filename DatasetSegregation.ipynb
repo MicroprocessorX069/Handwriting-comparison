{
  "nbformat": 4,
  "nbformat_minor": 0,
  "metadata": {
    "colab": {
      "name": "DatasetSegregation.ipynb",
      "version": "0.3.2",
      "provenance": [],
      "collapsed_sections": [],
      "include_colab_link": true
    },
    "kernelspec": {
      "name": "python3",
      "display_name": "Python 3"
    },
    "accelerator": "GPU"
  },
  "cells": [
    {
      "cell_type": "markdown",
      "metadata": {
        "id": "view-in-github",
        "colab_type": "text"
      },
      "source": [
        "<a href=\"https://colab.research.google.com/github/MicroprocessorX069/Handwriting-comparison/blob/master/DatasetSegregation.ipynb\" target=\"_parent\"><img src=\"https://colab.research.google.com/assets/colab-badge.svg\" alt=\"Open In Colab\"/></a>"
      ]
    },
    {
      "metadata": {
        "id": "q5C04n5HVwOq",
        "colab_type": "code",
        "colab": {}
      },
      "cell_type": "code",
      "source": [
        "import numpy as np\n",
        "from sklearn.cluster import KMeans\n",
        "import csv\n",
        "import math\n",
        "import matplotlib.pyplot\n",
        "from matplotlib import pyplot as plt\n",
        "import pandas as pd"
      ],
      "execution_count": 0,
      "outputs": []
    },
    {
      "metadata": {
        "id": "7PzzopqNY2aq",
        "colab_type": "code",
        "colab": {}
      },
      "cell_type": "code",
      "source": [
        "def readData(filePath):    \n",
        "    dataMatrix = [] \n",
        "    with open(filePath, 'rU') as fi:\n",
        "        reader = csv.reader(fi)\n",
        "        for row in reader:\n",
        "            dataRow = []\n",
        "            for column in row:\n",
        "                dataRow.append(column)\n",
        "            dataMatrix.append(dataRow)  \n",
        "    return np.array(dataMatrix)"
      ],
      "execution_count": 0,
      "outputs": []
    },
    {
      "metadata": {
        "id": "VOLabW-1hKcD",
        "colab_type": "code",
        "colab": {
          "base_uri": "https://localhost:8080/",
          "height": 52
        },
        "outputId": "7398e337-3987-4984-a87c-3065d78b2d85"
      },
      "cell_type": "code",
      "source": [
        "# if the writers are same then result is 0, else 1\n",
        "dWritersData=readData('diffn_pairs.csv') # Featuring two samples with different writers \n",
        "writersData=readData('HumanObserved-Features-Data.csv') # Features dictionary of all handwriting samples\n",
        "sWritersData=readData('same_pairs.csv') # Featuring two samples with same writers\n",
        "\n",
        "writersData_Names=writersData[:,1]\n",
        "allDataConcat=[]\n",
        "allDataSubtract=[]\n",
        "equalSamplesConcat=[]\n",
        "equalSamplesSubtract=[]\n",
        "temp=[]\n",
        "\n",
        "for row in range(1,len(dWritersData)):\n",
        "  features_a=writersData[np.where(writersData_Names==dWritersData[row,0]),2:11].astype(int)[0,0]\n",
        "  features_b= writersData[np.where(writersData_Names==dWritersData[row,1]),2:11].astype(int)[0,0].tolist()\n",
        "  temp=writersData[np.where(writersData_Names==dWritersData[row,0]),2:11].astype(int)[0,0].tolist() + writersData[np.where(writersData_Names==dWritersData[row,1]),2:11].astype(int)[0,0].tolist() + list(map(int,dWritersData[row,2]))\n",
        "  subtract=features_a-features_b\n",
        "  temp2=np.append(subtract, list(map(int,dWritersData[row,2])))\n",
        "  allDataConcat.append(temp)\n",
        "  allDataSubtract.append(temp2)\n",
        "  \n",
        "for row in range(1,len(sWritersData)):\n",
        "  features_a= np.array(writersData[np.where(writersData_Names==sWritersData[row,0]),2:11].astype(int)[0,0].tolist())\n",
        "  features_b= np.array(writersData[np.where(writersData_Names==sWritersData[row,1]),2:11].astype(int)[0,0].tolist())\n",
        "  temp=writersData[np.where(writersData_Names==sWritersData[row,0]),2:11].astype(int)[0,0].tolist() + writersData[np.where(writersData_Names==sWritersData[row,1]),2:11].astype(int)[0,0].tolist() + list(map(int,sWritersData[row,2]))\n",
        "  subtract=features_a-features_b\n",
        "  temp2=np.append(subtract,list(map(int,sWritersData[row,2])))\n",
        "  allDataConcat.append(temp)\n",
        "  allDataSubtract.append(temp2)\n",
        "  \n",
        "Data=pd.DataFrame(allDataConcat, columns=None, index=None )\n",
        "Data = Data.sample(frac=1).reset_index(drop=True)\n",
        "Data.to_csv('allDataConcat.csv',header=False, columns=False)\n",
        "Data.iloc[:,0:18].to_csv('allDataConcatInput.csv',header=False, index=False)\n",
        "Data.iloc[:,18].to_csv('allDataConcatTarget.csv',header=False, index=False)\n",
        "\n",
        "Data=pd.DataFrame(allDataSubtract, columns=None, index=None )\n",
        "Data = Data.sample(frac=1).reset_index(drop=True)\n",
        "Data.to_csv('allDataSubtract.csv',header=False, index=False)\n",
        "Data.iloc[:,0:9].to_csv('allDataSubtractInput.csv',header=False, index=False)\n",
        "Data.iloc[:,9].to_csv('allDataSubtractTarget.csv',header=False, index=False)\n",
        "\n"
      ],
      "execution_count": 22,
      "outputs": [
        {
          "output_type": "stream",
          "text": [
            "/usr/local/lib/python3.6/dist-packages/ipykernel_launcher.py:3: DeprecationWarning: 'U' mode is deprecated\n",
            "  This is separate from the ipykernel package so we can avoid doing imports until\n"
          ],
          "name": "stderr"
        }
      ]
    },
    {
      "metadata": {
        "id": "eOphtb_ZGNKC",
        "colab_type": "code",
        "colab": {}
      },
      "cell_type": "code",
      "source": [
        ""
      ],
      "execution_count": 0,
      "outputs": []
    },
    {
      "metadata": {
        "id": "9EE69YkJWYWV",
        "colab_type": "code",
        "colab": {
          "base_uri": "https://localhost:8080/",
          "height": 72
        },
        "outputId": "cd7649be-9b9c-4e82-c2a4-2a32377e8fde"
      },
      "cell_type": "code",
      "source": [
        "# if the writers are same then result is 0, else 1\n",
        "dWritersData=readData('GSCdiffn_pairs.csv') # Featuring two samples with different writers \n",
        "writersData=readData('GSC-Features.csv') # Features dictionary of all handwriting samples\n",
        "sWritersData=readData('GSCsame_pairs.csv') # Featuring two samples with same writers\n",
        "\n",
        "writersData2=np.array(writersData)\n",
        "dWritersData2=np.array(dWritersData)\n",
        "sWritersData2=np.array(sWritersData)\n",
        "\n",
        "#names of dWriter start from 0\n",
        "#names of writers start from 0\n",
        "writersData_Names2=writersData2[1:,0]\n",
        "GSCDataConcat=[]\n",
        "GSCSubtract=[]\n",
        "GSCequalSamplesConcat=[]\n",
        "GSCequalSamplesSubtract=[]\n",
        "temp=[]"
      ],
      "execution_count": 4,
      "outputs": [
        {
          "output_type": "stream",
          "text": [
            "/usr/local/lib/python3.6/dist-packages/ipykernel_launcher.py:3: DeprecationWarning: 'U' mode is deprecated\n",
            "  This is separate from the ipykernel package so we can avoid doing imports until\n"
          ],
          "name": "stderr"
        }
      ]
    },
    {
      "metadata": {
        "id": "4n94CagWcVT8",
        "colab_type": "code",
        "colab": {}
      },
      "cell_type": "code",
      "source": [
        "GSCConcat=[]\n",
        "GSCSubtract=[]\n",
        "for row in range(1,len(dWritersData)):\n",
        "  temp=[]\n",
        "  temp2=[]\n",
        "  features_a=writersData2[int(np.where(writersData_Names2==dWritersData2[row,0])[0])+1,1:512].astype(int)\n",
        "  features_b=writersData2[int(np.where(writersData_Names2==dWritersData2[row,1])[0])+1,1:512].astype(int)\n",
        "  subtract=features_a-features_b\n",
        "  temp.extend(features_a)\n",
        "  temp.extend(features_b)\n",
        "  temp.extend(list(map(int,dWritersData2[row,2])))\n",
        "  temp2.extend(subtract)\n",
        "  temp2.extend(list(map(int,dWritersData2[row,2])))\n",
        "  GSCConcat.append(temp)\n",
        "  GSCSubtract.append(temp2)\n",
        "  \n",
        "GSCConcat=np.array(GSCConcat)\n",
        "GSCSubtract=np.array(GSCSubtract)\n"
      ],
      "execution_count": 0,
      "outputs": []
    },
    {
      "metadata": {
        "id": "iOPbZ538jITW",
        "colab_type": "code",
        "colab": {}
      },
      "cell_type": "code",
      "source": [
        "  \n",
        "Data=pd.DataFrame(GSCConcat, columns=None, index=None )\n",
        "Data = Data.sample(frac=1).reset_index(drop=True)\n",
        "Data.to_csv('gscConcat.csv',header=False, index=False)\n",
        "Data.iloc[:,0:511].to_csv('gscInput.csv',header=False, index=False)\n",
        "Data.iloc[:,512].to_csv('gscTarget.csv',header=False, index=False)\n",
        "\n",
        "Data=pd.DataFrame(GSCSubtract, columns=None, index=None )\n",
        "Data = Data.sample(frac=1).reset_index(drop=True)\n",
        "Data.to_csv('gscSubtract.csv',header=False, index=False)\n",
        "Data.iloc[:,0:511].to_csv('gscSubtract.csv',header=False, index=False)\n",
        "Data.iloc[:,512].to_csv('gscSubtractTarget.csv',header=False, index=False)"
      ],
      "execution_count": 0,
      "outputs": []
    },
    {
      "metadata": {
        "id": "XMdPUJtaXqqz",
        "colab_type": "code",
        "colab": {}
      },
      "cell_type": "code",
      "source": [
        ""
      ],
      "execution_count": 0,
      "outputs": []
    }
  ]
}