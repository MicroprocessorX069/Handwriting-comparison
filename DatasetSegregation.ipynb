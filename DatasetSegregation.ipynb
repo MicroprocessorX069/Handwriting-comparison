{
  "nbformat": 4,
  "nbformat_minor": 0,
  "metadata": {
    "colab": {
      "name": "DatasetSegregation.ipynb",
      "version": "0.3.2",
      "provenance": [],
      "collapsed_sections": [],
      "include_colab_link": true
    },
    "kernelspec": {
      "name": "python3",
      "display_name": "Python 3"
    }
  },
  "cells": [
    {
      "cell_type": "markdown",
      "metadata": {
        "id": "view-in-github",
        "colab_type": "text"
      },
      "source": [
        "<a href=\"https://colab.research.google.com/github/MicroprocessorX069/Handwriting-comparison/blob/master/DatasetSegregation.ipynb\" target=\"_parent\"><img src=\"https://colab.research.google.com/assets/colab-badge.svg\" alt=\"Open In Colab\"/></a>"
      ]
    },
    {
      "metadata": {
        "id": "q5C04n5HVwOq",
        "colab_type": "code",
        "colab": {}
      },
      "cell_type": "code",
      "source": [
        "import numpy as np\n",
        "from sklearn.cluster import KMeans\n",
        "import csv\n",
        "import math\n",
        "import matplotlib.pyplot\n",
        "from matplotlib import pyplot as plt\n",
        "import pandas as pd"
      ],
      "execution_count": 0,
      "outputs": []
    },
    {
      "metadata": {
        "id": "7PzzopqNY2aq",
        "colab_type": "code",
        "colab": {}
      },
      "cell_type": "code",
      "source": [
        "def readData(filePath):    \n",
        "    dataMatrix = [] \n",
        "    with open(filePath, 'rU') as fi:\n",
        "        reader = csv.reader(fi)\n",
        "        for row in reader:\n",
        "            dataRow = []\n",
        "            for column in row:\n",
        "                dataRow.append(column)\n",
        "            dataMatrix.append(dataRow)  \n",
        "    return np.array(dataMatrix)"
      ],
      "execution_count": 0,
      "outputs": []
    },
    {
      "metadata": {
        "id": "VOLabW-1hKcD",
        "colab_type": "code",
        "colab": {}
      },
      "cell_type": "code",
      "source": [
        "# if the writers are same then result is 0, else 1\n",
        "dWritersData=readData('diffn_pairs.csv') # Featuring two samples with different writers \n",
        "writersData=readData('HumanObserved-Features-Data.csv') # Features dictionary of all handwriting samples\n",
        "sWritersData=readData('same_pairs.csv') # Featuring two samples with same writers\n",
        "\n",
        "\n"
      ],
      "execution_count": 0,
      "outputs": []
    },
    {
      "metadata": {
        "id": "OXJSReJ7ldb9",
        "colab_type": "code",
        "colab": {}
      },
      "cell_type": "code",
      "source": [
        "writersData_Names=writersData[:,1]\n",
        "allData=[]\n",
        "temp=[]"
      ],
      "execution_count": 0,
      "outputs": []
    },
    {
      "metadata": {
        "id": "eOphtb_ZGNKC",
        "colab_type": "code",
        "colab": {}
      },
      "cell_type": "code",
      "source": [
        "for row in range(1,len(sWritersData)):\n",
        "  temp=writersData[np.where(writersData_Names==dWritersData[row,0]),2:11].astype(int)[0,0].tolist() + writersData[np.where(writersData_Names==dWritersData[row,1]),2:11].astype(int)[0,0].tolist() + list(map(int,dWritersData[row,2]))\n",
        "  allData.append(temp)\n",
        "  \n",
        "for row in range(1,len(sWritersData)):\n",
        "  temp=writersData[np.where(writersData_Names==sWritersData[row,0]),2:11].astype(int)[0,0].tolist() + writersData[np.where(writersData_Names==sWritersData[row,1]),2:11].astype(int)[0,0].tolist() + list(map(int,sWritersData[row,2]))\n",
        "  allData.append(temp)\n",
        "  \n",
        "Data=pd.DataFrame(allData, columns=['Af1','Af2','Af3','Af4','Af5','Af6','Af7','Af8','Af9','Bf1','Bf2','Bf3','Bf4','Bf5','Bf6','Bf7','Bf8','Bf9','target'])\n",
        "Data = Data.sample(frac=1).reset_index(drop=True)\n",
        "Data.to_csv('Data_equalSamples.csv')"
      ],
      "execution_count": 0,
      "outputs": []
    }
  ]
}